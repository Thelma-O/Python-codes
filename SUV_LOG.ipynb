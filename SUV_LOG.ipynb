{
 "cells": [
  {
   "cell_type": "markdown",
   "id": "650ca9ef",
   "metadata": {},
   "source": [
    "# Logistic Regression: SUV Purchase Data\n",
    "\n",
    "This dataset reveals information on whether an SUV is purchased or not. The goal is to create a logistic regression model and evaluate if the model corectly predicts the purchase of an SUV by an individual."
   ]
  },
  {
   "cell_type": "code",
   "execution_count": 4,
   "id": "6a6c8a85",
   "metadata": {},
   "outputs": [],
   "source": [
    "#import essential libraries\n",
    "\n",
    "#Basics\n",
    "import pandas as pd\n",
    "import numpy as np\n",
    "\n",
    "#Visualization\n",
    "import matplotlib.pyplot as plot\n",
    "import seaborn as sns\n",
    "import matplotlib.pyplot as plt\n",
    "\n",
    "#SKLearn ML\n",
    "from sklearn.linear_model import LogisticRegression\n",
    "from sklearn.model_selection import train_test_split\n",
    "from sklearn.metrics import ConfusionMatrixDisplay, confusion_matrix, classification_report, recall_score\n",
    "from sklearn.preprocessing import StandardScaler"
   ]
  },
  {
   "cell_type": "code",
   "execution_count": 5,
   "id": "9ec69451",
   "metadata": {},
   "outputs": [],
   "source": [
    "#import the dataset\n",
    "suv_data = pd.read_csv('suv_data.csv')"
   ]
  },
  {
   "cell_type": "code",
   "execution_count": 6,
   "id": "89642a8b",
   "metadata": {},
   "outputs": [
    {
     "data": {
      "text/html": [
       "<div>\n",
       "<style scoped>\n",
       "    .dataframe tbody tr th:only-of-type {\n",
       "        vertical-align: middle;\n",
       "    }\n",
       "\n",
       "    .dataframe tbody tr th {\n",
       "        vertical-align: top;\n",
       "    }\n",
       "\n",
       "    .dataframe thead th {\n",
       "        text-align: right;\n",
       "    }\n",
       "</style>\n",
       "<table border=\"1\" class=\"dataframe\">\n",
       "  <thead>\n",
       "    <tr style=\"text-align: right;\">\n",
       "      <th></th>\n",
       "      <th>User ID</th>\n",
       "      <th>Gender</th>\n",
       "      <th>Age</th>\n",
       "      <th>EstimatedSalary</th>\n",
       "      <th>Purchased</th>\n",
       "    </tr>\n",
       "  </thead>\n",
       "  <tbody>\n",
       "    <tr>\n",
       "      <th>0</th>\n",
       "      <td>15624510</td>\n",
       "      <td>Male</td>\n",
       "      <td>19</td>\n",
       "      <td>19000</td>\n",
       "      <td>0</td>\n",
       "    </tr>\n",
       "    <tr>\n",
       "      <th>1</th>\n",
       "      <td>15810944</td>\n",
       "      <td>Male</td>\n",
       "      <td>35</td>\n",
       "      <td>20000</td>\n",
       "      <td>0</td>\n",
       "    </tr>\n",
       "    <tr>\n",
       "      <th>2</th>\n",
       "      <td>15668575</td>\n",
       "      <td>Female</td>\n",
       "      <td>26</td>\n",
       "      <td>43000</td>\n",
       "      <td>0</td>\n",
       "    </tr>\n",
       "    <tr>\n",
       "      <th>3</th>\n",
       "      <td>15603246</td>\n",
       "      <td>Female</td>\n",
       "      <td>27</td>\n",
       "      <td>57000</td>\n",
       "      <td>0</td>\n",
       "    </tr>\n",
       "    <tr>\n",
       "      <th>4</th>\n",
       "      <td>15804002</td>\n",
       "      <td>Male</td>\n",
       "      <td>19</td>\n",
       "      <td>76000</td>\n",
       "      <td>0</td>\n",
       "    </tr>\n",
       "    <tr>\n",
       "      <th>...</th>\n",
       "      <td>...</td>\n",
       "      <td>...</td>\n",
       "      <td>...</td>\n",
       "      <td>...</td>\n",
       "      <td>...</td>\n",
       "    </tr>\n",
       "    <tr>\n",
       "      <th>395</th>\n",
       "      <td>15691863</td>\n",
       "      <td>Female</td>\n",
       "      <td>46</td>\n",
       "      <td>41000</td>\n",
       "      <td>1</td>\n",
       "    </tr>\n",
       "    <tr>\n",
       "      <th>396</th>\n",
       "      <td>15706071</td>\n",
       "      <td>Male</td>\n",
       "      <td>51</td>\n",
       "      <td>23000</td>\n",
       "      <td>1</td>\n",
       "    </tr>\n",
       "    <tr>\n",
       "      <th>397</th>\n",
       "      <td>15654296</td>\n",
       "      <td>Female</td>\n",
       "      <td>50</td>\n",
       "      <td>20000</td>\n",
       "      <td>1</td>\n",
       "    </tr>\n",
       "    <tr>\n",
       "      <th>398</th>\n",
       "      <td>15755018</td>\n",
       "      <td>Male</td>\n",
       "      <td>36</td>\n",
       "      <td>33000</td>\n",
       "      <td>0</td>\n",
       "    </tr>\n",
       "    <tr>\n",
       "      <th>399</th>\n",
       "      <td>15594041</td>\n",
       "      <td>Female</td>\n",
       "      <td>49</td>\n",
       "      <td>36000</td>\n",
       "      <td>1</td>\n",
       "    </tr>\n",
       "  </tbody>\n",
       "</table>\n",
       "<p>400 rows × 5 columns</p>\n",
       "</div>"
      ],
      "text/plain": [
       "      User ID  Gender  Age  EstimatedSalary  Purchased\n",
       "0    15624510    Male   19            19000          0\n",
       "1    15810944    Male   35            20000          0\n",
       "2    15668575  Female   26            43000          0\n",
       "3    15603246  Female   27            57000          0\n",
       "4    15804002    Male   19            76000          0\n",
       "..        ...     ...  ...              ...        ...\n",
       "395  15691863  Female   46            41000          1\n",
       "396  15706071    Male   51            23000          1\n",
       "397  15654296  Female   50            20000          1\n",
       "398  15755018    Male   36            33000          0\n",
       "399  15594041  Female   49            36000          1\n",
       "\n",
       "[400 rows x 5 columns]"
      ]
     },
     "execution_count": 6,
     "metadata": {},
     "output_type": "execute_result"
    }
   ],
   "source": [
    "#display the data\n",
    "suv_data"
   ]
  },
  {
   "cell_type": "markdown",
   "id": "554d0c81",
   "metadata": {},
   "source": [
    "EDA"
   ]
  },
  {
   "cell_type": "code",
   "execution_count": 7,
   "id": "4fe33444",
   "metadata": {},
   "outputs": [
    {
     "name": "stdout",
     "output_type": "stream",
     "text": [
      "(400, 5)\n"
     ]
    }
   ],
   "source": [
    "#Check the number of columns and rows\n",
    "print(suv_data.shape)"
   ]
  },
  {
   "cell_type": "code",
   "execution_count": 8,
   "id": "53346be5",
   "metadata": {},
   "outputs": [
    {
     "name": "stdout",
     "output_type": "stream",
     "text": [
      "            User ID         Age  EstimatedSalary   Purchased\n",
      "count  4.000000e+02  400.000000       400.000000  400.000000\n",
      "mean   1.569154e+07   37.655000     69742.500000    0.357500\n",
      "std    7.165832e+04   10.482877     34096.960282    0.479864\n",
      "min    1.556669e+07   18.000000     15000.000000    0.000000\n",
      "25%    1.562676e+07   29.750000     43000.000000    0.000000\n",
      "50%    1.569434e+07   37.000000     70000.000000    0.000000\n",
      "75%    1.575036e+07   46.000000     88000.000000    1.000000\n",
      "max    1.581524e+07   60.000000    150000.000000    1.000000\n"
     ]
    }
   ],
   "source": [
    "#summarize the data\n",
    "print(suv_data.describe())"
   ]
  },
  {
   "cell_type": "code",
   "execution_count": 9,
   "id": "7cd5e76a",
   "metadata": {},
   "outputs": [
    {
     "name": "stdout",
     "output_type": "stream",
     "text": [
      "<class 'pandas.core.frame.DataFrame'>\n",
      "RangeIndex: 400 entries, 0 to 399\n",
      "Data columns (total 5 columns):\n",
      " #   Column           Non-Null Count  Dtype \n",
      "---  ------           --------------  ----- \n",
      " 0   User ID          400 non-null    int64 \n",
      " 1   Gender           400 non-null    object\n",
      " 2   Age              400 non-null    int64 \n",
      " 3   EstimatedSalary  400 non-null    int64 \n",
      " 4   Purchased        400 non-null    int64 \n",
      "dtypes: int64(4), object(1)\n",
      "memory usage: 15.8+ KB\n",
      "None\n"
     ]
    }
   ],
   "source": [
    "print(suv_data.info())"
   ]
  },
  {
   "cell_type": "code",
   "execution_count": 10,
   "id": "fedd3dd2",
   "metadata": {},
   "outputs": [
    {
     "name": "stdout",
     "output_type": "stream",
     "text": [
      "User ID             int64\n",
      "Gender             object\n",
      "Age                 int64\n",
      "EstimatedSalary     int64\n",
      "Purchased           int64\n",
      "dtype: object\n"
     ]
    }
   ],
   "source": [
    "#view datatypes\n",
    "print(suv_data.dtypes)"
   ]
  },
  {
   "cell_type": "code",
   "execution_count": 11,
   "id": "7905b1a6",
   "metadata": {},
   "outputs": [
    {
     "name": "stdout",
     "output_type": "stream",
     "text": [
      "    User ID  Gender  Age  EstimatedSalary  Purchased\n",
      "0  15624510    Male   19            19000          0\n",
      "1  15810944    Male   35            20000          0\n",
      "2  15668575  Female   26            43000          0\n",
      "3  15603246  Female   27            57000          0\n",
      "4  15804002    Male   19            76000          0\n"
     ]
    }
   ],
   "source": [
    "#view first 5 rows\n",
    "print(suv_data.head())"
   ]
  },
  {
   "cell_type": "markdown",
   "id": "933aeec0",
   "metadata": {},
   "source": [
    "Visualize the data to access the distribution of the variables."
   ]
  },
  {
   "cell_type": "code",
   "execution_count": 12,
   "id": "1b0f6bd8",
   "metadata": {},
   "outputs": [
    {
     "data": {
      "image/png": "[encoded data removed]",
      "text/plain": [
       "<Figure size 640x480 with 1 Axes>"
      ]
     },
     "metadata": {},
     "output_type": "display_data"
    }
   ],
   "source": [
    "#plot histogram \n",
    "plt.hist(suv_data[\"Age\"], bins = 50)\n",
    "plt.show()"
   ]
  },
  {
   "cell_type": "markdown",
   "id": "1939a8e0",
   "metadata": {},
   "source": [
    "The histogram shows that age is normally distributed"
   ]
  },
  {
   "cell_type": "code",
   "execution_count": 13,
   "id": "4a83ec14",
   "metadata": {},
   "outputs": [
    {
     "data": {
      "image/png": "[encoded data removed]",
      "text/plain": [
       "<Figure size 600.25x500 with 1 Axes>"
      ]
     },
     "metadata": {},
     "output_type": "display_data"
    }
   ],
   "source": [
    "sns.catplot(x= \"Purchased\", data = suv_data, hue = \"Gender\", kind = \"count\")\n",
    "plt.show()"
   ]
  },
  {
   "cell_type": "markdown",
   "id": "e374442f",
   "metadata": {},
   "source": [
    "The data shows that more females bought SUVs than males\n"
   ]
  },
  {
   "cell_type": "markdown",
   "id": "6a8263b3",
   "metadata": {},
   "source": [
    "# Feature Engineering\n",
    "logistic regression cannot interpret string data. Therefore, the Gender column will be One-hot coded. One-hot coding converts categorical variables into a binary representation where each category becomes a binary feature column."
   ]
  },
  {
   "cell_type": "code",
   "execution_count": 14,
   "id": "4b32f2c4",
   "metadata": {},
   "outputs": [],
   "source": [
    "Gender_dummy = pd.get_dummies(suv_data[\"Gender\"])"
   ]
  },
  {
   "cell_type": "code",
   "execution_count": 15,
   "id": "26256f9b",
   "metadata": {},
   "outputs": [
    {
     "data": {
      "text/html": [
       "<div>\n",
       "<style scoped>\n",
       "    .dataframe tbody tr th:only-of-type {\n",
       "        vertical-align: middle;\n",
       "    }\n",
       "\n",
       "    .dataframe tbody tr th {\n",
       "        vertical-align: top;\n",
       "    }\n",
       "\n",
       "    .dataframe thead th {\n",
       "        text-align: right;\n",
       "    }\n",
       "</style>\n",
       "<table border=\"1\" class=\"dataframe\">\n",
       "  <thead>\n",
       "    <tr style=\"text-align: right;\">\n",
       "      <th></th>\n",
       "      <th>User ID</th>\n",
       "      <th>Gender</th>\n",
       "      <th>Age</th>\n",
       "      <th>EstimatedSalary</th>\n",
       "      <th>Purchased</th>\n",
       "      <th>Female</th>\n",
       "      <th>Male</th>\n",
       "    </tr>\n",
       "  </thead>\n",
       "  <tbody>\n",
       "    <tr>\n",
       "      <th>0</th>\n",
       "      <td>15624510</td>\n",
       "      <td>Male</td>\n",
       "      <td>19</td>\n",
       "      <td>19000</td>\n",
       "      <td>0</td>\n",
       "      <td>0</td>\n",
       "      <td>1</td>\n",
       "    </tr>\n",
       "    <tr>\n",
       "      <th>1</th>\n",
       "      <td>15810944</td>\n",
       "      <td>Male</td>\n",
       "      <td>35</td>\n",
       "      <td>20000</td>\n",
       "      <td>0</td>\n",
       "      <td>0</td>\n",
       "      <td>1</td>\n",
       "    </tr>\n",
       "    <tr>\n",
       "      <th>2</th>\n",
       "      <td>15668575</td>\n",
       "      <td>Female</td>\n",
       "      <td>26</td>\n",
       "      <td>43000</td>\n",
       "      <td>0</td>\n",
       "      <td>1</td>\n",
       "      <td>0</td>\n",
       "    </tr>\n",
       "    <tr>\n",
       "      <th>3</th>\n",
       "      <td>15603246</td>\n",
       "      <td>Female</td>\n",
       "      <td>27</td>\n",
       "      <td>57000</td>\n",
       "      <td>0</td>\n",
       "      <td>1</td>\n",
       "      <td>0</td>\n",
       "    </tr>\n",
       "    <tr>\n",
       "      <th>4</th>\n",
       "      <td>15804002</td>\n",
       "      <td>Male</td>\n",
       "      <td>19</td>\n",
       "      <td>76000</td>\n",
       "      <td>0</td>\n",
       "      <td>0</td>\n",
       "      <td>1</td>\n",
       "    </tr>\n",
       "    <tr>\n",
       "      <th>...</th>\n",
       "      <td>...</td>\n",
       "      <td>...</td>\n",
       "      <td>...</td>\n",
       "      <td>...</td>\n",
       "      <td>...</td>\n",
       "      <td>...</td>\n",
       "      <td>...</td>\n",
       "    </tr>\n",
       "    <tr>\n",
       "      <th>395</th>\n",
       "      <td>15691863</td>\n",
       "      <td>Female</td>\n",
       "      <td>46</td>\n",
       "      <td>41000</td>\n",
       "      <td>1</td>\n",
       "      <td>1</td>\n",
       "      <td>0</td>\n",
       "    </tr>\n",
       "    <tr>\n",
       "      <th>396</th>\n",
       "      <td>15706071</td>\n",
       "      <td>Male</td>\n",
       "      <td>51</td>\n",
       "      <td>23000</td>\n",
       "      <td>1</td>\n",
       "      <td>0</td>\n",
       "      <td>1</td>\n",
       "    </tr>\n",
       "    <tr>\n",
       "      <th>397</th>\n",
       "      <td>15654296</td>\n",
       "      <td>Female</td>\n",
       "      <td>50</td>\n",
       "      <td>20000</td>\n",
       "      <td>1</td>\n",
       "      <td>1</td>\n",
       "      <td>0</td>\n",
       "    </tr>\n",
       "    <tr>\n",
       "      <th>398</th>\n",
       "      <td>15755018</td>\n",
       "      <td>Male</td>\n",
       "      <td>36</td>\n",
       "      <td>33000</td>\n",
       "      <td>0</td>\n",
       "      <td>0</td>\n",
       "      <td>1</td>\n",
       "    </tr>\n",
       "    <tr>\n",
       "      <th>399</th>\n",
       "      <td>15594041</td>\n",
       "      <td>Female</td>\n",
       "      <td>49</td>\n",
       "      <td>36000</td>\n",
       "      <td>1</td>\n",
       "      <td>1</td>\n",
       "      <td>0</td>\n",
       "    </tr>\n",
       "  </tbody>\n",
       "</table>\n",
       "<p>400 rows × 7 columns</p>\n",
       "</div>"
      ],
      "text/plain": [
       "      User ID  Gender  Age  EstimatedSalary  Purchased  Female  Male\n",
       "0    15624510    Male   19            19000          0       0     1\n",
       "1    15810944    Male   35            20000          0       0     1\n",
       "2    15668575  Female   26            43000          0       1     0\n",
       "3    15603246  Female   27            57000          0       1     0\n",
       "4    15804002    Male   19            76000          0       0     1\n",
       "..        ...     ...  ...              ...        ...     ...   ...\n",
       "395  15691863  Female   46            41000          1       1     0\n",
       "396  15706071    Male   51            23000          1       0     1\n",
       "397  15654296  Female   50            20000          1       1     0\n",
       "398  15755018    Male   36            33000          0       0     1\n",
       "399  15594041  Female   49            36000          1       1     0\n",
       "\n",
       "[400 rows x 7 columns]"
      ]
     },
     "execution_count": 15,
     "metadata": {},
     "output_type": "execute_result"
    }
   ],
   "source": [
    "#combine the new dummy dataframe to the original one\n",
    "suv_data_eng = pd.concat([suv_data, Gender_dummy], axis = 1)\n",
    "suv_data_eng"
   ]
  },
  {
   "cell_type": "code",
   "execution_count": 16,
   "id": "7c3bcec1",
   "metadata": {},
   "outputs": [
    {
     "data": {
      "text/html": [
       "<div>\n",
       "<style scoped>\n",
       "    .dataframe tbody tr th:only-of-type {\n",
       "        vertical-align: middle;\n",
       "    }\n",
       "\n",
       "    .dataframe tbody tr th {\n",
       "        vertical-align: top;\n",
       "    }\n",
       "\n",
       "    .dataframe thead th {\n",
       "        text-align: right;\n",
       "    }\n",
       "</style>\n",
       "<table border=\"1\" class=\"dataframe\">\n",
       "  <thead>\n",
       "    <tr style=\"text-align: right;\">\n",
       "      <th></th>\n",
       "      <th>User ID</th>\n",
       "      <th>Age</th>\n",
       "      <th>EstimatedSalary</th>\n",
       "      <th>Purchased</th>\n",
       "      <th>Female</th>\n",
       "      <th>Male</th>\n",
       "    </tr>\n",
       "  </thead>\n",
       "  <tbody>\n",
       "    <tr>\n",
       "      <th>0</th>\n",
       "      <td>15624510</td>\n",
       "      <td>19</td>\n",
       "      <td>19000</td>\n",
       "      <td>0</td>\n",
       "      <td>0</td>\n",
       "      <td>1</td>\n",
       "    </tr>\n",
       "    <tr>\n",
       "      <th>1</th>\n",
       "      <td>15810944</td>\n",
       "      <td>35</td>\n",
       "      <td>20000</td>\n",
       "      <td>0</td>\n",
       "      <td>0</td>\n",
       "      <td>1</td>\n",
       "    </tr>\n",
       "    <tr>\n",
       "      <th>2</th>\n",
       "      <td>15668575</td>\n",
       "      <td>26</td>\n",
       "      <td>43000</td>\n",
       "      <td>0</td>\n",
       "      <td>1</td>\n",
       "      <td>0</td>\n",
       "    </tr>\n",
       "    <tr>\n",
       "      <th>3</th>\n",
       "      <td>15603246</td>\n",
       "      <td>27</td>\n",
       "      <td>57000</td>\n",
       "      <td>0</td>\n",
       "      <td>1</td>\n",
       "      <td>0</td>\n",
       "    </tr>\n",
       "    <tr>\n",
       "      <th>4</th>\n",
       "      <td>15804002</td>\n",
       "      <td>19</td>\n",
       "      <td>76000</td>\n",
       "      <td>0</td>\n",
       "      <td>0</td>\n",
       "      <td>1</td>\n",
       "    </tr>\n",
       "    <tr>\n",
       "      <th>...</th>\n",
       "      <td>...</td>\n",
       "      <td>...</td>\n",
       "      <td>...</td>\n",
       "      <td>...</td>\n",
       "      <td>...</td>\n",
       "      <td>...</td>\n",
       "    </tr>\n",
       "    <tr>\n",
       "      <th>395</th>\n",
       "      <td>15691863</td>\n",
       "      <td>46</td>\n",
       "      <td>41000</td>\n",
       "      <td>1</td>\n",
       "      <td>1</td>\n",
       "      <td>0</td>\n",
       "    </tr>\n",
       "    <tr>\n",
       "      <th>396</th>\n",
       "      <td>15706071</td>\n",
       "      <td>51</td>\n",
       "      <td>23000</td>\n",
       "      <td>1</td>\n",
       "      <td>0</td>\n",
       "      <td>1</td>\n",
       "    </tr>\n",
       "    <tr>\n",
       "      <th>397</th>\n",
       "      <td>15654296</td>\n",
       "      <td>50</td>\n",
       "      <td>20000</td>\n",
       "      <td>1</td>\n",
       "      <td>1</td>\n",
       "      <td>0</td>\n",
       "    </tr>\n",
       "    <tr>\n",
       "      <th>398</th>\n",
       "      <td>15755018</td>\n",
       "      <td>36</td>\n",
       "      <td>33000</td>\n",
       "      <td>0</td>\n",
       "      <td>0</td>\n",
       "      <td>1</td>\n",
       "    </tr>\n",
       "    <tr>\n",
       "      <th>399</th>\n",
       "      <td>15594041</td>\n",
       "      <td>49</td>\n",
       "      <td>36000</td>\n",
       "      <td>1</td>\n",
       "      <td>1</td>\n",
       "      <td>0</td>\n",
       "    </tr>\n",
       "  </tbody>\n",
       "</table>\n",
       "<p>400 rows × 6 columns</p>\n",
       "</div>"
      ],
      "text/plain": [
       "      User ID  Age  EstimatedSalary  Purchased  Female  Male\n",
       "0    15624510   19            19000          0       0     1\n",
       "1    15810944   35            20000          0       0     1\n",
       "2    15668575   26            43000          0       1     0\n",
       "3    15603246   27            57000          0       1     0\n",
       "4    15804002   19            76000          0       0     1\n",
       "..        ...  ...              ...        ...     ...   ...\n",
       "395  15691863   46            41000          1       1     0\n",
       "396  15706071   51            23000          1       0     1\n",
       "397  15654296   50            20000          1       1     0\n",
       "398  15755018   36            33000          0       0     1\n",
       "399  15594041   49            36000          1       1     0\n",
       "\n",
       "[400 rows x 6 columns]"
      ]
     },
     "execution_count": 16,
     "metadata": {},
     "output_type": "execute_result"
    }
   ],
   "source": [
    "#drop categorical columns\n",
    "suv_df=suv_data_eng.drop(\"Gender\", axis = 1)\n",
    "suv_df"
   ]
  },
  {
   "cell_type": "markdown",
   "id": "bbcc8359",
   "metadata": {},
   "source": [
    "# Defining the Input(independent) variables and the Target(dependent) variable\n",
    "\n"
   ]
  },
  {
   "cell_type": "markdown",
   "id": "83546cb0",
   "metadata": {},
   "source": [
    "Fitting the Logistic Regression model using scikit learn library"
   ]
  },
  {
   "cell_type": "code",
   "execution_count": 17,
   "id": "5a36170c",
   "metadata": {},
   "outputs": [],
   "source": [
    "#Separate the dataset into input and target variables\n",
    "y_target = suv_df.Purchased\n",
    "x_inputs = suv_df[[\"User ID\", \"Age\", \"EstimatedSalary\", \"Female\", \"Male\"]]"
   ]
  },
  {
   "cell_type": "markdown",
   "id": "251588a0",
   "metadata": {},
   "source": [
    "Sklearn will be used to split the data into training and testing data. The training division is to assess how well the data performs. The testing division is to evaluate how well the data performs on data it has not seen before. "
   ]
  },
  {
   "cell_type": "code",
   "execution_count": 18,
   "id": "29ec367f",
   "metadata": {},
   "outputs": [
    {
     "name": "stdout",
     "output_type": "stream",
     "text": [
      "x_train:  (320, 5)\n",
      "x_test:  (80, 5)\n",
      "y_train:  320\n",
      "y_test : 80\n"
     ]
    }
   ],
   "source": [
    "x_train, x_test, y_train, y_test = train_test_split(x_inputs, y_target, train_size=0.8, random_state=50)\n",
    "\n",
    "print(\"x_train: \", x_train.shape)\n",
    "print(\"x_test: \" , x_test.shape)\n",
    "print(\"y_train: \", len(y_train))\n",
    "print(\"y_test :\", len(y_test))"
   ]
  },
  {
   "cell_type": "markdown",
   "id": "5bf9d00d",
   "metadata": {},
   "source": [
    "# Scaling the data.\n",
    "Before the data is fitted, it will be scaled with Standardization (Z-score normalization) method in SKlearn. This method transforms the data to have mean of 0 and a standard deviation of 1. It also rescales the data by subtracting the mean and dividing by the standard deviation."
   ]
  },
  {
   "cell_type": "code",
   "execution_count": 19,
   "id": "4f1eedb7",
   "metadata": {},
   "outputs": [
    {
     "name": "stdout",
     "output_type": "stream",
     "text": [
      "x_train:  [[ 0.79323515 -1.33626083  0.57552869  0.91025899 -0.91025899]\n",
      " [-0.85476504  0.07652595  0.04874572 -1.09858844  1.09858844]\n",
      " [ 0.36629689 -0.95951769  0.42920008  0.91025899 -0.91025899]\n",
      " ...\n",
      " [ 0.1237463  -0.01765983  0.3121372   0.91025899 -0.91025899]\n",
      " [ 0.03894208  0.73582645 -0.8292259   0.91025899 -0.91025899]\n",
      " [-1.09763361 -0.30021719 -0.65363158  0.91025899 -0.91025899]]\n",
      "x_test :  [[ 0.73054302 -0.89122082  0.73421338  1.32612997 -1.32612997]\n",
      " [ 1.01287977  0.67690966 -0.19007555 -0.7540739   0.7540739 ]\n",
      " [-0.69521093 -1.30938895  0.31679258  1.32612997 -1.32612997]\n",
      " [ 0.98577615  1.19961981 -0.63731213  1.32612997 -1.32612997]\n",
      " [-1.73239084 -0.36851066  0.43605566  1.32612997 -1.32612997]\n",
      " [ 1.27425935  0.67690966 -0.51804904 -0.7540739   0.7540739 ]\n",
      " [ 0.46614204  2.4541242   2.13555467 -0.7540739   0.7540739 ]\n",
      " [-1.76279724 -0.78667879  1.53923923 -0.7540739   0.7540739 ]\n",
      " [ 0.20895389  0.88599372  2.01629158  1.32612997 -1.32612997]\n",
      " [ 0.4320922   0.57236762 -0.57768058 -0.7540739   0.7540739 ]\n",
      " [-0.47183566 -0.47305269 -1.59141683 -0.7540739   0.7540739 ]\n",
      " [-0.32904551 -0.05488457  0.10808217 -0.7540739   0.7540739 ]\n",
      " [-0.48889761 -1.62301504  0.31679258  1.32612997 -1.32612997]\n",
      " [ 0.54702339 -0.57759473  0.22734526  1.32612997 -1.32612997]\n",
      " [-0.17904253 -0.57759473 -0.6671279  -0.7540739   0.7540739 ]\n",
      " [ 1.07622522 -1.41393098 -1.32307488  1.32612997 -1.32612997]\n",
      " [-0.45757293 -1.10030488  0.55531875 -0.7540739   0.7540739 ]\n",
      " [ 0.34097665  1.30416185  0.73421338  1.32612997 -1.32612997]\n",
      " [ 1.57472443  1.30416185 -1.14418025 -0.7540739   0.7540739 ]\n",
      " [-0.3786318  -0.26396863  2.3144493   1.32612997 -1.32612997]\n",
      " [ 0.3457457  -0.89122082  0.55531875 -0.7540739   0.7540739 ]\n",
      " [ 0.66188052  1.19961981  2.16537044  1.32612997 -1.32612997]\n",
      " [-0.60683537  0.46782559 -0.42860172 -0.7540739   0.7540739 ]\n",
      " [-0.32380251 -0.99576285 -1.68086414  1.32612997 -1.32612997]\n",
      " [-1.46834532 -0.68213676  0.10808217 -0.7540739   0.7540739 ]\n",
      " [-1.7451873  -0.36851066  1.44979191 -0.7540739   0.7540739 ]\n",
      " [ 1.08434149 -0.47305269 -0.01118091  1.32612997 -1.32612997]\n",
      " [-1.86348052 -0.05488457  0.04845063 -0.7540739   0.7540739 ]\n",
      " [-1.16531799 -0.1594266  -1.38270642  1.32612997 -1.32612997]\n",
      " [-0.28504286 -0.05488457 -0.63731213 -0.7540739   0.7540739 ]\n",
      " [ 1.68430894  0.99053575  1.7777654   1.32612997 -1.32612997]\n",
      " [-1.4105687  -0.99576285 -0.57768058  1.32612997 -1.32612997]\n",
      " [-0.77055306  0.99053575 -1.47215374 -0.7540739   0.7540739 ]\n",
      " [-0.34527805  1.30416185  0.0782664  -0.7540739   0.7540739 ]\n",
      " [ 0.40789148 -0.89122082  1.95666003  1.32612997 -1.32612997]\n",
      " [ 0.90480595 -0.99576285 -1.23362756 -0.7540739   0.7540739 ]\n",
      " [-0.4461983   0.57236762  0.01863486  1.32612997 -1.32612997]\n",
      " [-0.41432563  0.67690966  0.04845063 -0.7540739   0.7540739 ]\n",
      " [-0.09826487  0.1541995   2.16537044 -0.7540739   0.7540739 ]\n",
      " [-1.51040777  0.1541995  -1.14418025  1.32612997 -1.32612997]\n",
      " [ 1.30851655 -0.89122082  0.52550298 -0.7540739   0.7540739 ]\n",
      " [-1.03085147 -0.78667879  0.40623989  1.32612997 -1.32612997]\n",
      " [ 1.16039454 -0.68213676 -0.30933863 -0.7540739   0.7540739 ]\n",
      " [ 0.64529251 -0.99576285  0.25716103 -0.7540739   0.7540739 ]\n",
      " [-0.09727255 -1.20484692 -0.48823327 -0.7540739   0.7540739 ]\n",
      " [-0.48784604 -0.99576285 -0.84602253  1.32612997 -1.32612997]\n",
      " [-0.34576681  0.57236762 -0.60749635  1.32612997 -1.32612997]\n",
      " [-0.52389534 -1.83209911 -0.10062823  1.32612997 -1.32612997]\n",
      " [-0.93111608  1.30416185  2.07592312 -0.7540739   0.7540739 ]\n",
      " [-0.02806206  0.04965747  0.8236607  -0.7540739   0.7540739 ]\n",
      " [ 1.33088074  2.55866623 -0.8758383  -0.7540739   0.7540739 ]\n",
      " [-1.12737293  2.03595607 -0.96528562 -0.7540739   0.7540739 ]\n",
      " [ 1.13826732  1.93141404 -0.04099669 -0.7540739   0.7540739 ]\n",
      " [ 0.64749931 -0.99576285 -1.17399602 -0.7540739   0.7540739 ]\n",
      " [-1.21241608  0.25874153 -0.30933863 -0.7540739   0.7540739 ]\n",
      " [ 0.99679533 -0.99576285  0.2869768  -0.7540739   0.7540739 ]\n",
      " [ 0.58554607  0.1541995   0.01863486 -0.7540739   0.7540739 ]\n",
      " [ 0.72473721  0.1541995  -0.04099669 -0.7540739   0.7540739 ]\n",
      " [-0.40444688 -0.05488457  0.01863486 -0.7540739   0.7540739 ]\n",
      " [-1.73572325  0.1541995   2.22500198  1.32612997 -1.32612997]\n",
      " [-0.10457423  0.36328356 -0.8758383  -0.7540739   0.7540739 ]\n",
      " [-0.12218418  0.25874153 -0.60749635 -0.7540739   0.7540739 ]\n",
      " [ 1.62074133 -0.05488457 -1.53178528 -0.7540739   0.7540739 ]\n",
      " [ 1.67808844 -0.47305269 -0.16025977 -0.7540739   0.7540739 ]\n",
      " [ 1.23900984  0.67690966  0.10808217  1.32612997 -1.32612997]\n",
      " [ 0.09896949  1.40870388  0.0782664  -0.7540739   0.7540739 ]\n",
      " [ 1.44162049 -1.10030488  0.22734526 -0.7540739   0.7540739 ]\n",
      " [ 0.95936864 -0.89122082  0.49568721 -0.7540739   0.7540739 ]\n",
      " [ 0.3820764  -0.05488457 -0.19007555  1.32612997 -1.32612997]\n",
      " [ 0.04545836  1.09507778 -1.29325911 -0.7540739   0.7540739 ]\n",
      " [-1.82923813 -1.30938895 -0.24970709 -0.7540739   0.7540739 ]\n",
      " [ 1.67419322  2.24504013 -0.33915441 -0.7540739   0.7540739 ]\n",
      " [-1.45541556 -0.89122082 -0.42860172  1.32612997 -1.32612997]\n",
      " [-0.23664142 -0.05488457 -0.30933863 -0.7540739   0.7540739 ]\n",
      " [ 1.65286579  0.46782559  1.06218688 -0.7540739   0.7540739 ]\n",
      " [-0.77575163 -1.20484692 -0.48823327  1.32612997 -1.32612997]\n",
      " [ 0.24522535 -1.20484692 -0.39878595 -0.7540739   0.7540739 ]\n",
      " [ 0.47941245  1.19961981 -1.38270642 -0.7540739   0.7540739 ]\n",
      " [-1.22079895  0.04965747 -0.63731213  1.32612997 -1.32612997]\n",
      " [-1.17512269  0.1541995  -0.54786481 -0.7540739   0.7540739 ]]\n"
     ]
    }
   ],
   "source": [
    "scaler = StandardScaler()\n",
    "\n",
    "x_train = scaler.fit_transform(x_train)\n",
    "x_test = scaler.fit_transform(x_test)\n",
    "\n",
    "print(\"x_train: \", x_train)\n",
    "print(\"x_test : \", x_test)"
   ]
  },
  {
   "cell_type": "markdown",
   "id": "245196c7",
   "metadata": {},
   "source": [
    "# Fitting the model"
   ]
  },
  {
   "cell_type": "code",
   "execution_count": 20,
   "id": "e7758d9e",
   "metadata": {},
   "outputs": [
    {
     "data": {
      "text/plain": [
       "LogisticRegression(max_iter=1000)"
      ]
     },
     "execution_count": 20,
     "metadata": {},
     "output_type": "execute_result"
    }
   ],
   "source": [
    "#Declare a logistic regression classifier\n",
    "\n",
    "classifier = LogisticRegression(max_iter=1000)\n",
    "classifier.fit(x_train, y_train)"
   ]
  },
  {
   "cell_type": "markdown",
   "id": "046d8d01",
   "metadata": {},
   "source": [
    "Measure the accuracy performance of the train data"
   ]
  },
  {
   "cell_type": "code",
   "execution_count": 21,
   "id": "6e9fdc27",
   "metadata": {},
   "outputs": [
    {
     "data": {
      "text/plain": [
       "0.85"
      ]
     },
     "execution_count": 21,
     "metadata": {},
     "output_type": "execute_result"
    }
   ],
   "source": [
    "classifier.score(x_train, y_train)"
   ]
  },
  {
   "cell_type": "markdown",
   "id": "88292abe",
   "metadata": {},
   "source": [
    "EXPLAIN DIFF: The score here evaluates the performance of the model, by default, the classifier uses Accuracy as the score. It is the ratio of number of correct predictions to the total number of predictions. It is essentially the fraction of predictions the model got right. It works well with a balanced class, hence, it is essential to have a quick look at the distribution of the class as done above. \n",
    "\n",
    "These four outcomes can also be depicted in the form of a confusion matrix, which is nothing but a visual representation of how many times these outcomes occured for our model's predictions."
   ]
  },
  {
   "cell_type": "markdown",
   "id": "650d8f4f",
   "metadata": {},
   "source": [
    "#  Evaluating the model and Confusion Matrix"
   ]
  },
  {
   "cell_type": "code",
   "execution_count": 22,
   "id": "226e9540",
   "metadata": {},
   "outputs": [
    {
     "data": {
      "text/plain": [
       "array([0, 1, 0, 1, 0, 0, 1, 0, 1, 0, 0, 0, 0, 0, 0, 0, 0, 1, 1, 1, 0, 1,\n",
       "       0, 0, 0, 0, 0, 0, 0, 0, 1, 0, 0, 1, 0, 0, 1, 1, 1, 0, 0, 0, 0, 0,\n",
       "       0, 0, 0, 0, 1, 1, 1, 1, 1, 0, 0, 0, 0, 0, 0, 1, 0, 0, 0, 0, 1, 1,\n",
       "       0, 0, 0, 1, 0, 1, 0, 0, 1, 0, 0, 1, 0, 0], dtype=int64)"
      ]
     },
     "execution_count": 22,
     "metadata": {},
     "output_type": "execute_result"
    }
   ],
   "source": [
    "preds = classifier.predict(x_test)\n",
    "preds"
   ]
  },
  {
   "cell_type": "code",
   "execution_count": 23,
   "id": "a99764b0",
   "metadata": {},
   "outputs": [
    {
     "data": {
      "text/plain": [
       "array([[49,  5],\n",
       "       [ 6, 20]], dtype=int64)"
      ]
     },
     "execution_count": 23,
     "metadata": {},
     "output_type": "execute_result"
    }
   ],
   "source": [
    "con_mat = confusion_matrix(y_test, preds)\n",
    "con_mat"
   ]
  },
  {
   "cell_type": "code",
   "execution_count": 24,
   "id": "6a433730",
   "metadata": {},
   "outputs": [],
   "source": [
    "tn = con_mat[0][0]\n",
    "fp = con_mat[0][1]\n",
    "fn = con_mat[1][0]\n",
    "tp = con_mat[1][1]"
   ]
  },
  {
   "cell_type": "code",
   "execution_count": 28,
   "id": "f3bab1fe",
   "metadata": {},
   "outputs": [
    {
     "name": "stdout",
     "output_type": "stream",
     "text": [
      "True Negatives (Correct Non-Purchase):  49\n",
      "False Positives (Incorrect Purchase):  5\n",
      "False Negatives (Incorrect Non-Purchase):  6\n",
      "True Positives (Correct Purchase) 20\n"
     ]
    }
   ],
   "source": [
    "print(\"True Negatives (Correct Non-Purchase): \", tn)\n",
    "print(\"False Positives (Incorrect Purchase): \", fp)\n",
    "print(\"False Negatives (Incorrect Non-Purchase): \", fn)\n",
    "print(\"True Positives (Correct Purchase)\", tp)"
   ]
  },
  {
   "cell_type": "code",
   "execution_count": 26,
   "id": "1a532a25",
   "metadata": {},
   "outputs": [
    {
     "data": {
      "image/png": "[encoded data removed]",
      "text/plain": [
       "<Figure size 640x480 with 2 Axes>"
      ]
     },
     "metadata": {},
     "output_type": "display_data"
    }
   ],
   "source": [
    "#Plot the confusion matrix\n",
    "\n",
    "ConfusionMatrixDisplay.from_estimator(classifier,x_test, y_test)\n",
    "plt.show()"
   ]
  },
  {
   "cell_type": "code",
   "execution_count": 27,
   "id": "d69aa032",
   "metadata": {},
   "outputs": [
    {
     "name": "stdout",
     "output_type": "stream",
     "text": [
      "              precision    recall  f1-score   support\n",
      "\n",
      "           0       0.89      0.91      0.90        54\n",
      "           1       0.80      0.77      0.78        26\n",
      "\n",
      "    accuracy                           0.86        80\n",
      "   macro avg       0.85      0.84      0.84        80\n",
      "weighted avg       0.86      0.86      0.86        80\n",
      "\n"
     ]
    }
   ],
   "source": [
    "report = classification_report (y_test, preds)\n",
    "print (report)"
   ]
  },
  {
   "cell_type": "markdown",
   "id": "b4d6117a",
   "metadata": {},
   "source": [
    "The report clearly shows the model is correctly predicting the dataset."
   ]
  },
  {
   "cell_type": "code",
   "execution_count": null,
   "id": "b57d9519",
   "metadata": {},
   "outputs": [],
   "source": []
  }
 ],
 "metadata": {
  "kernelspec": {
   "display_name": "Python 3 (ipykernel)",
   "language": "python",
   "name": "python3"
  },
  "language_info": {
   "codemirror_mode": {
    "name": "ipython",
    "version": 3
   },
   "file_extension": ".py",
   "mimetype": "text/x-python",
   "name": "python",
   "nbconvert_exporter": "python",
   "pygments_lexer": "ipython3",
   "version": "3.9.13"
  }
 },
 "nbformat": 4,
 "nbformat_minor": 5
}
